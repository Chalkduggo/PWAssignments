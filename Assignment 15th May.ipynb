{
 "cells": [
  {
   "cell_type": "markdown",
   "id": "6cbaf746-a27b-4003-aa03-d9089f30196b",
   "metadata": {},
   "source": [
    "|--------------------------------------18TH MAY ASSIGNMENT--------------------------------|"
   ]
  },
  {
   "cell_type": "markdown",
   "id": "8928831f-7d97-404c-807e-a0c967b0d77d",
   "metadata": {},
   "source": [
    "Q1. How do you comment code in Python? What are the different types of comments?"
   ]
  },
  {
   "cell_type": "markdown",
   "id": "96b94456-4b30-4ae9-92ef-b0aab01239ab",
   "metadata": {},
   "source": [
    "Ans : In Python, we can use \"#\" for commenting single line and (''' or \"\"\") for multiline. \n",
    "This can help in Explaining code , Documentation , Debugging and Trobleshooting , Collaboration , Code Review and Education purpose.\n",
    "\n",
    "Single-line code:\n",
    "Single line code is used to add explaintion to a single line of code . To begin writing the code use \"#\" aanything after that is considered as comment"
   ]
  },
  {
   "cell_type": "code",
   "execution_count": null,
   "id": "dc423d27-ca91-4147-8674-1c49637194e8",
   "metadata": {},
   "outputs": [],
   "source": [
    "#This is a single line code\n",
    "a=26 # this line assigns 26 to the variable a"
   ]
  },
  {
   "cell_type": "markdown",
   "id": "2656b2ea-7ede-4aa5-b3e8-3c859f05466b",
   "metadata": {},
   "source": [
    "Multi-line Code: These are also known as docstring , are used for  multi-line comments or documentation .\n",
    "this can be done use (''' and \"\"\")"
   ]
  },
  {
   "cell_type": "code",
   "execution_count": 114,
   "id": "519831bb-0b67-4c8e-b877-e658aeaddb5b",
   "metadata": {},
   "outputs": [
    {
     "data": {
      "text/plain": [
       "'\\nMulti-line code\\nmulti-line code\\n'"
      ]
     },
     "execution_count": 114,
     "metadata": {},
     "output_type": "execute_result"
    }
   ],
   "source": [
    "'''\n",
    "Multi-line code\n",
    "multi-line code\n",
    "'''"
   ]
  },
  {
   "cell_type": "code",
   "execution_count": 115,
   "id": "3f3e9052-d009-4815-9590-e447c665c814",
   "metadata": {},
   "outputs": [
    {
     "data": {
      "text/plain": [
       "'\\nMulti-line code\\nMulti-line code\\n'"
      ]
     },
     "execution_count": 115,
     "metadata": {},
     "output_type": "execute_result"
    }
   ],
   "source": [
    "\"\"\"\n",
    "Multi-line code\n",
    "Multi-line code\n",
    "\"\"\""
   ]
  },
  {
   "cell_type": "code",
   "execution_count": null,
   "id": "681b26fc-9217-4bab-97f8-4a13d2445c4e",
   "metadata": {},
   "outputs": [],
   "source": []
  },
  {
   "cell_type": "markdown",
   "id": "0d9af49d-5a84-47e9-acbe-6ddfe791fa9b",
   "metadata": {},
   "source": [
    "Q2. What are variables in Python? How do you declare and assign values to variables?"
   ]
  },
  {
   "cell_type": "markdown",
   "id": "348faee1-7471-4cfc-911a-7d68253faa2a",
   "metadata": {},
   "source": [
    "Ans :\n",
    "In Python, a variable is a location used to store data and values. It acts as an identifier for the location of the data stored.\n",
    "The data stored in the variable hepl us to manupulate and work with the data\n",
    "It can help us to assign varius kind of data viz numbers , strings ,set , list , dictionaries,etc.\n",
    "The naming conventions for the variable are as follows:\n",
    "1. it can consist of letters(both upper and lower case ), digits and underscores\n",
    "2. The first character cannot be numeric in must start with a letter or underscore. that is 12suman not allower either it should be suman123 or _suman\n",
    "3. The names are case sensitive .That means suman nad Suman are two different variables\n",
    "4. Reserved words like \"for\", \"if\" , \"while\" cannot be used as varible names"
   ]
  },
  {
   "cell_type": "code",
   "execution_count": 101,
   "id": "c56f5610-7cac-45aa-8721-77e407342f21",
   "metadata": {},
   "outputs": [],
   "source": [
    "#integer\n",
    "a=123"
   ]
  },
  {
   "cell_type": "code",
   "execution_count": 102,
   "id": "915dbcca-fb4a-4f93-8fbe-b87a1085f948",
   "metadata": {},
   "outputs": [
    {
     "data": {
      "text/plain": [
       "123"
      ]
     },
     "execution_count": 102,
     "metadata": {},
     "output_type": "execute_result"
    }
   ],
   "source": [
    "a"
   ]
  },
  {
   "cell_type": "code",
   "execution_count": 103,
   "id": "7a2007c6-7e44-4bf9-883c-9d0925a58be7",
   "metadata": {},
   "outputs": [
    {
     "data": {
      "text/plain": [
       "int"
      ]
     },
     "execution_count": 103,
     "metadata": {},
     "output_type": "execute_result"
    }
   ],
   "source": [
    "type(a)"
   ]
  },
  {
   "cell_type": "code",
   "execution_count": 96,
   "id": "b43147e5-0761-43c8-82c8-3f4225cfd03a",
   "metadata": {},
   "outputs": [],
   "source": [
    "#string\n",
    "b=\"suman\""
   ]
  },
  {
   "cell_type": "code",
   "execution_count": 104,
   "id": "654c69b2-2cf6-4a1f-aaf1-1d5b5992711e",
   "metadata": {},
   "outputs": [
    {
     "data": {
      "text/plain": [
       "'suman'"
      ]
     },
     "execution_count": 104,
     "metadata": {},
     "output_type": "execute_result"
    }
   ],
   "source": [
    "b"
   ]
  },
  {
   "cell_type": "code",
   "execution_count": 105,
   "id": "64baca8f-a92c-4f8c-86a7-0ae98438e2c7",
   "metadata": {},
   "outputs": [
    {
     "data": {
      "text/plain": [
       "str"
      ]
     },
     "execution_count": 105,
     "metadata": {},
     "output_type": "execute_result"
    }
   ],
   "source": [
    "type(b)"
   ]
  },
  {
   "cell_type": "code",
   "execution_count": 107,
   "id": "ea86921d-b7a1-4443-a0ec-d685a0c05f33",
   "metadata": {},
   "outputs": [],
   "source": [
    "#boolean\n",
    "c=True"
   ]
  },
  {
   "cell_type": "code",
   "execution_count": 108,
   "id": "84bb659e-5b53-4296-b5aa-832237eedf9f",
   "metadata": {},
   "outputs": [
    {
     "data": {
      "text/plain": [
       "True"
      ]
     },
     "execution_count": 108,
     "metadata": {},
     "output_type": "execute_result"
    }
   ],
   "source": [
    "c"
   ]
  },
  {
   "cell_type": "code",
   "execution_count": 109,
   "id": "276ef375-77a0-4a3a-8a56-3fc7223abaf4",
   "metadata": {},
   "outputs": [
    {
     "data": {
      "text/plain": [
       "bool"
      ]
     },
     "execution_count": 109,
     "metadata": {},
     "output_type": "execute_result"
    }
   ],
   "source": [
    "type(c)"
   ]
  },
  {
   "cell_type": "code",
   "execution_count": 110,
   "id": "ef816ac3-584a-4acb-961d-6c7bb624763c",
   "metadata": {},
   "outputs": [],
   "source": [
    "#float\n",
    "d=26.02"
   ]
  },
  {
   "cell_type": "code",
   "execution_count": 111,
   "id": "85cfd01a-e78b-4b06-a583-1c7c89b3badf",
   "metadata": {},
   "outputs": [
    {
     "data": {
      "text/plain": [
       "26.02"
      ]
     },
     "execution_count": 111,
     "metadata": {},
     "output_type": "execute_result"
    }
   ],
   "source": [
    "d"
   ]
  },
  {
   "cell_type": "code",
   "execution_count": 112,
   "id": "c2a8708e-4b35-4bd6-accb-8bb1011fdd7a",
   "metadata": {},
   "outputs": [
    {
     "data": {
      "text/plain": [
       "float"
      ]
     },
     "execution_count": 112,
     "metadata": {},
     "output_type": "execute_result"
    }
   ],
   "source": [
    "type(d)"
   ]
  },
  {
   "cell_type": "code",
   "execution_count": null,
   "id": "d00626fd-24f6-4ca4-b191-83a9d3fd7514",
   "metadata": {},
   "outputs": [],
   "source": []
  },
  {
   "cell_type": "markdown",
   "id": "53a38a39-cc20-4719-b50b-61f18bbf6eaa",
   "metadata": {},
   "source": [
    "Q3. How do you convert one data type to another in Python?"
   ]
  },
  {
   "cell_type": "code",
   "execution_count": 90,
   "id": "5bb11f24-36ed-482c-97b9-c99640f458c2",
   "metadata": {},
   "outputs": [],
   "source": [
    "a=123"
   ]
  },
  {
   "cell_type": "code",
   "execution_count": 91,
   "id": "0688dd19-146c-4c3e-92a1-43c9c5f98e40",
   "metadata": {},
   "outputs": [
    {
     "name": "stdout",
     "output_type": "stream",
     "text": [
      "<class 'int'>\n"
     ]
    }
   ],
   "source": [
    "print(type(a))"
   ]
  },
  {
   "cell_type": "code",
   "execution_count": 92,
   "id": "3b0de68d-77df-4c58-9df6-fe3e57a8a41c",
   "metadata": {},
   "outputs": [],
   "source": [
    "convert=str(a)"
   ]
  },
  {
   "cell_type": "code",
   "execution_count": 93,
   "id": "e5880ec5-45dd-4eb8-ab17-3f7b7e82f285",
   "metadata": {},
   "outputs": [
    {
     "name": "stdout",
     "output_type": "stream",
     "text": [
      "<class 'str'>\n"
     ]
    }
   ],
   "source": [
    "print(type(convert))"
   ]
  },
  {
   "cell_type": "code",
   "execution_count": null,
   "id": "b1564e6e-6671-4f30-8812-0c9e1014f8cc",
   "metadata": {},
   "outputs": [],
   "source": []
  },
  {
   "cell_type": "markdown",
   "id": "b38fa57d-42fc-4821-a532-7818dfbf516f",
   "metadata": {},
   "source": [
    "Q4. How do you write and execute a Python script from the command line?"
   ]
  },
  {
   "cell_type": "markdown",
   "id": "45bcc1e6-ca29-4d60-b3b2-9c29e97ddf9f",
   "metadata": {},
   "source": [
    "We can use any text editor like Notepad , VS Code or even PWskills Lqb . \n",
    "\n",
    "Write the code: Inside the file write the desired code\n",
    "Saving :Save the code with the extension .py ,example sample.py\n",
    "Command promt/Terminal: in the directory navitage to the saved file location usinf \"cd\" command\n",
    "Runing the script: to execute the script type \"python' fllowed b ythe space and name of the script.\n",
    "Example :\n",
    "python sample.py"
   ]
  },
  {
   "cell_type": "code",
   "execution_count": null,
   "id": "e6a00eb6-4d91-49b3-95ad-4bddf7cd0bc8",
   "metadata": {},
   "outputs": [],
   "source": []
  },
  {
   "cell_type": "markdown",
   "id": "e55e9609-b050-4653-9d0f-75ab590c23eb",
   "metadata": {
    "tags": []
   },
   "source": [
    "Q5. Given a list my_list = [1, 2, 3, 4, 5], write the code to slice the list and obtain the sub-list [2, 3]."
   ]
  },
  {
   "cell_type": "code",
   "execution_count": 66,
   "id": "926a06f1-f59b-43fb-89ad-8f2b9b1b2354",
   "metadata": {},
   "outputs": [],
   "source": [
    "my_list=[1,2,3,4,5]"
   ]
  },
  {
   "cell_type": "code",
   "execution_count": 70,
   "id": "65b24706-9ab0-4120-8b35-f17c666526cb",
   "metadata": {},
   "outputs": [
    {
     "data": {
      "text/plain": [
       "[2, 3]"
      ]
     },
     "execution_count": 70,
     "metadata": {},
     "output_type": "execute_result"
    }
   ],
   "source": [
    "my_list[1:3:1]"
   ]
  },
  {
   "cell_type": "code",
   "execution_count": null,
   "id": "fa59e5b2-3b3e-4f32-99c0-c6b2d1ed7e19",
   "metadata": {},
   "outputs": [],
   "source": []
  },
  {
   "cell_type": "markdown",
   "id": "0bbc085c-f1d8-4c4a-8f91-aa5ec534e0e5",
   "metadata": {},
   "source": [
    "Q6. What is a complex number in mathematics, and how is it represented in Python?"
   ]
  },
  {
   "cell_type": "markdown",
   "id": "9aa4965e-04f9-4853-bf6a-0ddb18ae5802",
   "metadata": {},
   "source": [
    "Ans: In mathematics , a complex number is a number consisting of both real and imaginary part.\n",
    "In general , it is written a a+ib , where a is the real part and b is the imaginary part. \n",
    "The \"i\" in the imaginary part is imaginary part defined as square root of -1. \n",
    "The complex number is widely used in various braches of mathematics and engineering especially in electrical enginnering and signal processing .\n",
    "The real reason why they were introduced is take care of the quadratic equations with no real solution, thus helping us to analyze then amnd use them in the process\n",
    " In Python we represent them as a+bj , \"a\" is the real part and \"b\" is the imaginary part."
   ]
  },
  {
   "cell_type": "markdown",
   "id": "00bbcbd9-8af7-4629-b36f-353dc47dfab9",
   "metadata": {},
   "source": [
    "Example:"
   ]
  },
  {
   "cell_type": "code",
   "execution_count": 61,
   "id": "788092de-1131-499c-adb6-4a8003751cc4",
   "metadata": {},
   "outputs": [],
   "source": [
    "w=1+2j"
   ]
  },
  {
   "cell_type": "code",
   "execution_count": 63,
   "id": "237168f1-e084-4728-8ec2-8bf81a511ae3",
   "metadata": {},
   "outputs": [
    {
     "name": "stdout",
     "output_type": "stream",
     "text": [
      "1.0\n"
     ]
    }
   ],
   "source": [
    "print(w.real) # REAL PART"
   ]
  },
  {
   "cell_type": "code",
   "execution_count": 64,
   "id": "20bee0f3-8c7e-4897-bbe2-b578f6d1bd48",
   "metadata": {},
   "outputs": [
    {
     "name": "stdout",
     "output_type": "stream",
     "text": [
      "2.0\n"
     ]
    }
   ],
   "source": [
    "print(w.imag) # IMAGINARY PART"
   ]
  },
  {
   "cell_type": "code",
   "execution_count": null,
   "id": "2bc7e3f0-97ee-413a-888b-c6b99a8e2e1b",
   "metadata": {},
   "outputs": [],
   "source": []
  },
  {
   "cell_type": "markdown",
   "id": "feacee74-d9e9-4907-b035-297f697b7804",
   "metadata": {},
   "source": [
    "Q7. What is the correct way to declare a variable named age and assign the value 25 to it?"
   ]
  },
  {
   "cell_type": "code",
   "execution_count": 59,
   "id": "dd4e2dff-dcb0-4141-bfca-9c8533902ee6",
   "metadata": {},
   "outputs": [],
   "source": [
    "age=25"
   ]
  },
  {
   "cell_type": "markdown",
   "id": "6855d57f-6e16-4e70-9778-2c3b6e21c4a3",
   "metadata": {},
   "source": [
    "Q8. Declare a variable named price and assign the value 9.99 to it. What data type does this variable\n",
    "belong to?"
   ]
  },
  {
   "cell_type": "code",
   "execution_count": 57,
   "id": "e9339dfa-31d2-480a-8a41-ff1812d12d3b",
   "metadata": {},
   "outputs": [],
   "source": [
    " price= 9.99"
   ]
  },
  {
   "cell_type": "code",
   "execution_count": 58,
   "id": "b3b55dc8-7606-4ffc-a8c1-fe62af7d4472",
   "metadata": {},
   "outputs": [
    {
     "data": {
      "text/plain": [
       "float"
      ]
     },
     "execution_count": 58,
     "metadata": {},
     "output_type": "execute_result"
    }
   ],
   "source": [
    "type(price)"
   ]
  },
  {
   "cell_type": "code",
   "execution_count": null,
   "id": "584723af-f202-4d96-b059-907a7c1671ad",
   "metadata": {},
   "outputs": [],
   "source": [
    "#Ans : It is a float variable#"
   ]
  },
  {
   "cell_type": "code",
   "execution_count": null,
   "id": "b30bcc2c-b9b9-46c6-8deb-fea5c2f813c0",
   "metadata": {},
   "outputs": [],
   "source": []
  },
  {
   "cell_type": "markdown",
   "id": "434ee1b2-1791-4b1a-9f01-3701453d5539",
   "metadata": {},
   "source": [
    "Q9. Create a variable named name and assign your full name to it as a string. How would you print the\n",
    "value of this variable?"
   ]
  },
  {
   "cell_type": "code",
   "execution_count": 55,
   "id": "d4e794d7-0379-4874-a991-1064eadc485d",
   "metadata": {},
   "outputs": [],
   "source": [
    "name=\"Suman Mondal\""
   ]
  },
  {
   "cell_type": "code",
   "execution_count": 56,
   "id": "6cc07d02-343e-4de1-8859-5b2a215fb3a8",
   "metadata": {},
   "outputs": [
    {
     "name": "stdout",
     "output_type": "stream",
     "text": [
      "Suman Mondal\n"
     ]
    }
   ],
   "source": [
    "print(name)"
   ]
  },
  {
   "cell_type": "markdown",
   "id": "ffd902cf-deee-4d52-bb93-38d79a898ff9",
   "metadata": {},
   "source": [
    "Q10. Given the string \"Hello, World!\", extract the substring \"World\"."
   ]
  },
  {
   "cell_type": "code",
   "execution_count": null,
   "id": "a50596b9-0556-4ecf-a77d-5ad21c4e28d0",
   "metadata": {},
   "outputs": [],
   "source": [
    "# PROCESS 1 #"
   ]
  },
  {
   "cell_type": "code",
   "execution_count": 21,
   "id": "2a8fed1a-124e-419b-9d23-e6e1d4b1ce27",
   "metadata": {},
   "outputs": [],
   "source": [
    "Orginial= \"Hello, World!\""
   ]
  },
  {
   "cell_type": "code",
   "execution_count": 12,
   "id": "386db28d-9e9f-438a-8e58-9fd0e80a7e70",
   "metadata": {},
   "outputs": [],
   "source": [
    "substring=Orginial[7:12:1]"
   ]
  },
  {
   "cell_type": "code",
   "execution_count": 13,
   "id": "0094f99e-8d26-4491-a28f-33c9d4f971e1",
   "metadata": {},
   "outputs": [
    {
     "data": {
      "text/plain": [
       "'World'"
      ]
     },
     "execution_count": 13,
     "metadata": {},
     "output_type": "execute_result"
    }
   ],
   "source": [
    "substring"
   ]
  },
  {
   "cell_type": "code",
   "execution_count": null,
   "id": "a20d0c3f-1041-4a50-917b-e8e34612e64c",
   "metadata": {},
   "outputs": [],
   "source": [
    "# PROCESS 2 #"
   ]
  },
  {
   "cell_type": "code",
   "execution_count": 14,
   "id": "b8ab6c23-f34a-40be-8f39-665f99505a36",
   "metadata": {},
   "outputs": [],
   "source": [
    "import re"
   ]
  },
  {
   "cell_type": "code",
   "execution_count": 19,
   "id": "ac7e2c8b-bb7f-4844-83a6-ad653f703ad6",
   "metadata": {},
   "outputs": [],
   "source": [
    "eword =\"World\""
   ]
  },
  {
   "cell_type": "code",
   "execution_count": 22,
   "id": "0c168550-89c8-4103-8804-92e70d5a67e4",
   "metadata": {},
   "outputs": [],
   "source": [
    "x=re.findall(eword,Orginial,0)"
   ]
  },
  {
   "cell_type": "code",
   "execution_count": 23,
   "id": "0a571441-ef62-4afa-bf2d-43c9f5c30862",
   "metadata": {},
   "outputs": [
    {
     "data": {
      "text/plain": [
       "['World']"
      ]
     },
     "execution_count": 23,
     "metadata": {},
     "output_type": "execute_result"
    }
   ],
   "source": [
    "x"
   ]
  },
  {
   "cell_type": "markdown",
   "id": "6507b365-0364-475e-ad4a-4af0f8d5c866",
   "metadata": {},
   "source": [
    "Q11. Create a variable named \"is_student\" and assign it a boolean value indicating whether you are\n",
    "currently a student or not."
   ]
  },
  {
   "cell_type": "code",
   "execution_count": null,
   "id": "fa419625-eb78-44e7-bfe3-973b16b0af9c",
   "metadata": {},
   "outputs": [],
   "source": [
    "is_student= True"
   ]
  },
  {
   "cell_type": "code",
   "execution_count": 134,
   "id": "b8c41870-aea7-40cf-b19f-c7172d179031",
   "metadata": {},
   "outputs": [
    {
     "data": {
      "text/plain": [
       "bool"
      ]
     },
     "execution_count": 134,
     "metadata": {},
     "output_type": "execute_result"
    }
   ],
   "source": [
    "type(is_student)"
   ]
  }
 ],
 "metadata": {
  "kernelspec": {
   "display_name": "Python 3 (ipykernel)",
   "language": "python",
   "name": "python3"
  },
  "language_info": {
   "codemirror_mode": {
    "name": "ipython",
    "version": 3
   },
   "file_extension": ".py",
   "mimetype": "text/x-python",
   "name": "python",
   "nbconvert_exporter": "python",
   "pygments_lexer": "ipython3",
   "version": "3.10.8"
  }
 },
 "nbformat": 4,
 "nbformat_minor": 5
}
