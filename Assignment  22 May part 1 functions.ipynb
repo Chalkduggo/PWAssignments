{
 "cells": [
  {
   "cell_type": "markdown",
   "id": "49c10281-dda3-4e1a-9809-b761b010c4d1",
   "metadata": {
    "jp-MarkdownHeadingCollapsed": true,
    "tags": []
   },
   "source": [
    "# Q1. Which keyword is used to create a function? Create a function to return a list of odd numbers in the range of 1 to 25. #"
   ]
  },
  {
   "cell_type": "markdown",
   "id": "cb3e174c-b9e1-4ca1-9339-b1572cfc44ea",
   "metadata": {},
   "source": [
    " Ans : The 'def' keyword is used to create a function . The 'def' means define . The syntax is as follows \" def function name>(parameters)\" . \n",
    "        Example :"
   ]
  },
  {
   "cell_type": "code",
   "execution_count": 19,
   "id": "4d2414e7-9b64-4e42-b226-bc69bf64e7b9",
   "metadata": {
    "tags": []
   },
   "outputs": [],
   "source": [
    "def print_suffix(a):\n",
    "    b=\"Mr.\"+a\n",
    "    return b"
   ]
  },
  {
   "cell_type": "code",
   "execution_count": 20,
   "id": "da65b346-d638-46e0-87db-f08ee934a602",
   "metadata": {
    "tags": []
   },
   "outputs": [
    {
     "data": {
      "text/plain": [
       "'Mr.Suman'"
      ]
     },
     "execution_count": 20,
     "metadata": {},
     "output_type": "execute_result"
    }
   ],
   "source": [
    "print_suffix(\"Suman\")"
   ]
  },
  {
   "cell_type": "markdown",
   "id": "e3eacfe4-41e5-40fd-b46f-b98928c2dc5a",
   "metadata": {},
   "source": [
    "----------------"
   ]
  },
  {
   "cell_type": "code",
   "execution_count": 14,
   "id": "143577dd-958c-4455-9a4a-a7594e84648f",
   "metadata": {},
   "outputs": [],
   "source": [
    "Ans: "
   ]
  },
  {
   "cell_type": "code",
   "execution_count": 1,
   "id": "056dcb5a-e507-4284-a337-27ff3c58f3f2",
   "metadata": {},
   "outputs": [],
   "source": [
    "#Create a function to return a list of odd numbers in the range of 1 to 25."
   ]
  },
  {
   "cell_type": "code",
   "execution_count": 32,
   "id": "33ea7bb5-37cf-4f5c-83e7-6875a29399d0",
   "metadata": {},
   "outputs": [
    {
     "name": "stdout",
     "output_type": "stream",
     "text": [
      "[1, 3, 5, 7, 9, 11, 13, 15, 17, 19, 21, 23, 25]\n"
     ]
    }
   ],
   "source": [
    "\n",
    "def oddfinder():           # defining the function with function name and parameters\n",
    "    l1=[]                  # creating a blank list\n",
    "    for i in range(1,26):  # stating the range\n",
    "        if i%2 != 0:       # selecting only the odd numbers\n",
    "            l1.append(i)   #storing the odd number in list l1\n",
    "    return l1\n",
    "\n",
    "print(oddfinder())         # printing the desired outcome"
   ]
  },
  {
   "cell_type": "markdown",
   "id": "663767c9-9a4d-4ff2-8054-db9cedb32323",
   "metadata": {
    "jp-MarkdownHeadingCollapsed": true,
    "tags": []
   },
   "source": [
    "# Q2. Why *args and **kwargs is used in some functions? Create a function each for *args and **kwargs to demonstrate their use. #"
   ]
  },
  {
   "cell_type": "markdown",
   "id": "31015940-babd-43a6-a161-1244ddc8f097",
   "metadata": {},
   "source": [
    "Ans : While writing a function we oftern need to pass values to the function and these values are known a function arguments .But number of values we need to pass can change which will\n",
    "men that we have to modify everytime this happens. To make sure that the program accpts the required number of of argument with the programmers intervention and modifying the code,\n",
    "we use the *args and *kwargs as arguments of a function . thus when we are unsure of the number of arguments to pass in the function it help us to do so."
   ]
  },
  {
   "cell_type": "code",
   "execution_count": 45,
   "id": "91973e91-ed07-422a-909e-42cb3a9ee45f",
   "metadata": {},
   "outputs": [],
   "source": [
    "# EXAMPLE OF *args #"
   ]
  },
  {
   "cell_type": "code",
   "execution_count": 64,
   "id": "0731b6e5-7159-4b7c-83e1-59ad734cd9a5",
   "metadata": {},
   "outputs": [
    {
     "name": "stdout",
     "output_type": "stream",
     "text": [
      "6\n"
     ]
    }
   ],
   "source": [
    "# A code to add all the numbers inside the function\n",
    "def add(*args):\n",
    "    return sum(args)\n",
    "\n",
    "print(add(1,2,3))"
   ]
  },
  {
   "cell_type": "code",
   "execution_count": 65,
   "id": "69b37303-194f-4e57-9b48-da899ec41e72",
   "metadata": {},
   "outputs": [],
   "source": [
    "# EXAMPLE OF *kwargs #"
   ]
  },
  {
   "cell_type": "code",
   "execution_count": 74,
   "id": "6c94e698-f516-4444-aa46-e191e0d6ae0d",
   "metadata": {},
   "outputs": [
    {
     "name": "stdout",
     "output_type": "stream",
     "text": [
      "{'a': 2, 'b': 4, 'c': 6, 'd': 8}\n"
     ]
    }
   ],
   "source": [
    "def double_kwarg(**kwarg):\n",
    "    d2={}                             # declared key value pair dictionary\n",
    "    for key,value in kwarg.items():   #using the loop and accessing the items to run the loop\n",
    "            d2[key]=value*2           #doubling the value assigned at each key\n",
    "    return d2                         # returning the doubled value\n",
    "\n",
    "print(double_kwarg(a=1,b=2,c=3,d=4))   # printing the desired result"
   ]
  },
  {
   "cell_type": "code",
   "execution_count": null,
   "id": "9d7ed97b-3487-487b-822b-71483725452b",
   "metadata": {},
   "outputs": [],
   "source": []
  },
  {
   "cell_type": "markdown",
   "id": "63d5a220-12ba-4519-8d2c-62d5072a2129",
   "metadata": {
    "jp-MarkdownHeadingCollapsed": true,
    "tags": []
   },
   "source": [
    "# Q3. What is an iterator in python? Name the method used to initialise the iterator object and the method used for iteration. Use these methods to print the first five elements of the given list [2, 4, 6, 8, 10, 12, 14,16, 18, 20]. #"
   ]
  },
  {
   "cell_type": "markdown",
   "id": "68c9c0d3-7367-43df-95c4-8e47b0d8472f",
   "metadata": {},
   "source": [
    "Ans:  An iterator in python is a n object the help us to implement the iterator protocol by allowing it to iterate in a loop.  This actually helps us to access sequence of elements one at a time without\n",
    "the need for knowing the details of the data structure in it.\n",
    "this can be done using two methods:\n",
    "    1. by the Method of Initialization(init) : where the iterator object get initialized and return it .\n",
    "    2.by the method of Iteration(next) : this method returns the next value from the iterator and keeps on doing so this there is no more elements to be returned."
   ]
  },
  {
   "cell_type": "code",
   "execution_count": null,
   "id": "b5638fdf-ff94-4bfa-aa72-a2b151e87204",
   "metadata": {},
   "outputs": [],
   "source": []
  },
  {
   "cell_type": "code",
   "execution_count": 86,
   "id": "6c999843-9596-4e81-8955-d6b31bc9dee7",
   "metadata": {},
   "outputs": [
    {
     "name": "stdout",
     "output_type": "stream",
     "text": [
      "2\n",
      "4\n",
      "6\n",
      "8\n",
      "10\n"
     ]
    }
   ],
   "source": [
    "l=[2, 4, 6, 8, 10, 12, 14,16, 18, 20]\n",
    "\n",
    "for i in range(5):\n",
    "    print(l[i])"
   ]
  },
  {
   "cell_type": "code",
   "execution_count": null,
   "id": "b78dde2c-8485-4271-a2fc-2d94210de858",
   "metadata": {},
   "outputs": [],
   "source": []
  },
  {
   "cell_type": "markdown",
   "id": "1614e4c6-7e6a-464c-80d0-589b411539e6",
   "metadata": {
    "jp-MarkdownHeadingCollapsed": true,
    "tags": []
   },
   "source": [
    "# Q4. What is a generator function in python? Why yield keyword is used? Give an example of a generator function."
   ]
  },
  {
   "cell_type": "code",
   "execution_count": null,
   "id": "50093804-8c28-4327-82d8-b8854702982b",
   "metadata": {},
   "outputs": [],
   "source": [
    "Ans:  In Python, a genrator function is a special kind of function. it behave and looks just like a normal function having one defining character. \n",
    "In this instead of returning data , it uses yield keywords. The generaors are  basically used when we have to generate a large sqequence of values , but we donot want to store \n",
    "all of them in memory at once.\n",
    "      Yeild keyword basically helps to generate data in a memory efficient manner . In laymans term , it will turn any expression that is given with it into a generator object and return it to the caller.\n",
    "The main difference between yeild used in generator and return used in normal functions, the return statement terminates the execution of the function. Whereas, the yield statement only pauses\n",
    "the execution of the function."
   ]
  },
  {
   "cell_type": "code",
   "execution_count": null,
   "id": "9d688df9-9f17-4169-8978-ef29ee45c8d2",
   "metadata": {},
   "outputs": [],
   "source": [
    "Example:"
   ]
  },
  {
   "cell_type": "code",
   "execution_count": 71,
   "id": "8553a574-cb17-4d3a-bde5-533410f6179a",
   "metadata": {},
   "outputs": [
    {
     "name": "stdout",
     "output_type": "stream",
     "text": [
      "10\n",
      "12\n",
      "14\n",
      "16\n",
      "18\n",
      "20\n",
      "22\n",
      "24\n",
      "26\n",
      "28\n"
     ]
    }
   ],
   "source": [
    " # function to accept a number and then increase it by 2 say 10 is given output (10,12,14,16...)\n",
    "def pf(a):          \n",
    "    for i in range(a):\n",
    "        yield a\n",
    "        a = a+2\n",
    "\n",
    "for i in pf(10):\n",
    "    print(i)\n",
    "    \n"
   ]
  },
  {
   "cell_type": "markdown",
   "id": "e5eb3d2d-9eac-483d-abdd-0bc9052c2987",
   "metadata": {},
   "source": [
    "# Q5. Create a generator function for prime numbers less than 1000. Use the next() method to print the first 20 prime numbers."
   ]
  },
  {
   "cell_type": "code",
   "execution_count": 14,
   "id": "c35b9694-8e1d-4163-b4ba-3f3e64d6a0aa",
   "metadata": {},
   "outputs": [
    {
     "name": "stdout",
     "output_type": "stream",
     "text": [
      "[2, 3, 5, 7, 11, 13, 17, 19, 23, 29, 31, 37, 41, 43, 47, 53, 59, 61, 67, 71, 73, 79, 83, 89, 97, 101, 103, 107, 109, 113, 127, 131, 137, 139, 149, 151, 157, 163, 167, 173, 179, 181, 191, 193, 197, 199, 211, 223, 227, 229, 233, 239, 241, 251, 257, 263, 269, 271, 277, 281, 283, 293, 307, 311, 313, 317, 331, 337, 347, 349, 353, 359, 367, 373, 379, 383, 389, 397, 401, 409, 419, 421, 431, 433, 439, 443, 449, 457, 461, 463, 467, 479, 487, 491, 499, 503, 509, 521, 523, 541, 547, 557, 563, 569, 571, 577, 587, 593, 599, 601, 607, 613, 617, 619, 631, 641, 643, 647, 653, 659, 661, 673, 677, 683, 691, 701, 709, 719, 727, 733, 739, 743, 751, 757, 761, 769, 773, 787, 797, 809, 811, 821, 823, 827, 829, 839, 853, 857, 859, 863, 877, 881, 883, 887, 907, 911, 919, 929, 937, 941, 947, 953, 967, 971, 977, 983, 991, 997]\n"
     ]
    }
   ],
   "source": [
    "def prime_nos(n):\n",
    "    if n <=1:\n",
    "        return False\n",
    "    if n <=3:\n",
    "        return True\n",
    "\n",
    "    if n % 2 ==0 or n % 3 == 0:\n",
    "        return False\n",
    "    \n",
    "    i=5\n",
    "    while i*i <=n:\n",
    "        if n%i ==0 or n%(i+2)==0:\n",
    "            return False\n",
    "        i +=6\n",
    "        \n",
    "        \n",
    "    return True\n",
    "\n",
    "    \n",
    "l=[]\n",
    "for prm in range(2,1001):\n",
    "    if prime_nos(prm):\n",
    "        l.append(prm)\n",
    "\n",
    "print(l)"
   ]
  },
  {
   "cell_type": "code",
   "execution_count": 16,
   "id": "8b31db56-1e94-4cba-9b04-5d7066ded058",
   "metadata": {},
   "outputs": [],
   "source": [
    "t_20=iter(l)"
   ]
  },
  {
   "cell_type": "code",
   "execution_count": 17,
   "id": "7d775efd-f166-4741-856f-3fe1dd66013e",
   "metadata": {},
   "outputs": [
    {
     "data": {
      "text/plain": [
       "2"
      ]
     },
     "execution_count": 17,
     "metadata": {},
     "output_type": "execute_result"
    }
   ],
   "source": [
    "next(t_20)"
   ]
  },
  {
   "cell_type": "code",
   "execution_count": 18,
   "id": "9f73443c-dcc8-45e3-86fc-bd7d444daaf4",
   "metadata": {},
   "outputs": [
    {
     "data": {
      "text/plain": [
       "3"
      ]
     },
     "execution_count": 18,
     "metadata": {},
     "output_type": "execute_result"
    }
   ],
   "source": [
    "next(t_20)"
   ]
  },
  {
   "cell_type": "code",
   "execution_count": 19,
   "id": "2267acbe-7264-4f07-ac81-eff8e35cb5df",
   "metadata": {},
   "outputs": [
    {
     "data": {
      "text/plain": [
       "5"
      ]
     },
     "execution_count": 19,
     "metadata": {},
     "output_type": "execute_result"
    }
   ],
   "source": [
    "next(t_20)"
   ]
  },
  {
   "cell_type": "code",
   "execution_count": 20,
   "id": "00f36a26-00d7-47f4-878d-3e5f03182988",
   "metadata": {},
   "outputs": [
    {
     "data": {
      "text/plain": [
       "7"
      ]
     },
     "execution_count": 20,
     "metadata": {},
     "output_type": "execute_result"
    }
   ],
   "source": [
    "next(t_20)"
   ]
  },
  {
   "cell_type": "code",
   "execution_count": 21,
   "id": "030fe8bc-7bd5-4d4e-aa85-242ee11f54e8",
   "metadata": {},
   "outputs": [
    {
     "data": {
      "text/plain": [
       "11"
      ]
     },
     "execution_count": 21,
     "metadata": {},
     "output_type": "execute_result"
    }
   ],
   "source": [
    "next(t_20)"
   ]
  },
  {
   "cell_type": "code",
   "execution_count": 22,
   "id": "0274b314-5f6a-47fd-9bc6-f8f0b503e597",
   "metadata": {},
   "outputs": [
    {
     "data": {
      "text/plain": [
       "13"
      ]
     },
     "execution_count": 22,
     "metadata": {},
     "output_type": "execute_result"
    }
   ],
   "source": [
    "next(t_20)"
   ]
  },
  {
   "cell_type": "code",
   "execution_count": 23,
   "id": "8d6dd0eb-879b-40e0-bd13-4a39ce8e797b",
   "metadata": {},
   "outputs": [
    {
     "data": {
      "text/plain": [
       "17"
      ]
     },
     "execution_count": 23,
     "metadata": {},
     "output_type": "execute_result"
    }
   ],
   "source": [
    "next(t_20)"
   ]
  },
  {
   "cell_type": "code",
   "execution_count": 24,
   "id": "72a2a2c6-5b1d-40b2-8dc8-f43747891208",
   "metadata": {},
   "outputs": [
    {
     "data": {
      "text/plain": [
       "19"
      ]
     },
     "execution_count": 24,
     "metadata": {},
     "output_type": "execute_result"
    }
   ],
   "source": [
    "next(t_20)"
   ]
  },
  {
   "cell_type": "code",
   "execution_count": 25,
   "id": "f61fe0fe-db0d-4a1f-823f-065226128f77",
   "metadata": {},
   "outputs": [
    {
     "data": {
      "text/plain": [
       "23"
      ]
     },
     "execution_count": 25,
     "metadata": {},
     "output_type": "execute_result"
    }
   ],
   "source": [
    "next(t_20)"
   ]
  },
  {
   "cell_type": "code",
   "execution_count": 26,
   "id": "1291a3a7-afa4-4e25-bb45-1a18dd639ed9",
   "metadata": {},
   "outputs": [
    {
     "data": {
      "text/plain": [
       "29"
      ]
     },
     "execution_count": 26,
     "metadata": {},
     "output_type": "execute_result"
    }
   ],
   "source": [
    "next(t_20)"
   ]
  },
  {
   "cell_type": "code",
   "execution_count": 27,
   "id": "12563452-395d-4d7f-92c3-6d709d4063e0",
   "metadata": {},
   "outputs": [
    {
     "data": {
      "text/plain": [
       "31"
      ]
     },
     "execution_count": 27,
     "metadata": {},
     "output_type": "execute_result"
    }
   ],
   "source": [
    "next(t_20)"
   ]
  },
  {
   "cell_type": "code",
   "execution_count": 28,
   "id": "09f763b5-4970-4526-ab96-745bdc26169c",
   "metadata": {},
   "outputs": [
    {
     "data": {
      "text/plain": [
       "37"
      ]
     },
     "execution_count": 28,
     "metadata": {},
     "output_type": "execute_result"
    }
   ],
   "source": [
    "next(t_20)"
   ]
  },
  {
   "cell_type": "code",
   "execution_count": 29,
   "id": "8d0f200d-023e-4308-adfa-6a63a61e4642",
   "metadata": {},
   "outputs": [
    {
     "data": {
      "text/plain": [
       "41"
      ]
     },
     "execution_count": 29,
     "metadata": {},
     "output_type": "execute_result"
    }
   ],
   "source": [
    "next(t_20)"
   ]
  },
  {
   "cell_type": "code",
   "execution_count": 30,
   "id": "60a3ffa7-5976-41e0-8624-1d3590f853c1",
   "metadata": {},
   "outputs": [
    {
     "data": {
      "text/plain": [
       "43"
      ]
     },
     "execution_count": 30,
     "metadata": {},
     "output_type": "execute_result"
    }
   ],
   "source": [
    "next(t_20)"
   ]
  },
  {
   "cell_type": "code",
   "execution_count": 31,
   "id": "b07c8cd6-a8e6-4be5-870a-6999c0691055",
   "metadata": {},
   "outputs": [
    {
     "data": {
      "text/plain": [
       "47"
      ]
     },
     "execution_count": 31,
     "metadata": {},
     "output_type": "execute_result"
    }
   ],
   "source": [
    "next(t_20)"
   ]
  },
  {
   "cell_type": "code",
   "execution_count": 32,
   "id": "913cc72c-459c-439d-8788-c153588cae97",
   "metadata": {},
   "outputs": [
    {
     "data": {
      "text/plain": [
       "53"
      ]
     },
     "execution_count": 32,
     "metadata": {},
     "output_type": "execute_result"
    }
   ],
   "source": [
    "next(t_20)"
   ]
  },
  {
   "cell_type": "code",
   "execution_count": 33,
   "id": "eba40dda-99f1-43a6-9ae0-5f4fe6ccecae",
   "metadata": {},
   "outputs": [
    {
     "data": {
      "text/plain": [
       "59"
      ]
     },
     "execution_count": 33,
     "metadata": {},
     "output_type": "execute_result"
    }
   ],
   "source": [
    "next(t_20)"
   ]
  },
  {
   "cell_type": "code",
   "execution_count": 34,
   "id": "0b3a1a72-0df8-40bd-9a9d-6ed3cc5d4372",
   "metadata": {},
   "outputs": [
    {
     "data": {
      "text/plain": [
       "61"
      ]
     },
     "execution_count": 34,
     "metadata": {},
     "output_type": "execute_result"
    }
   ],
   "source": [
    "next(t_20)"
   ]
  },
  {
   "cell_type": "code",
   "execution_count": 35,
   "id": "0212153c-df4c-4592-a58b-bec709de7917",
   "metadata": {},
   "outputs": [
    {
     "data": {
      "text/plain": [
       "67"
      ]
     },
     "execution_count": 35,
     "metadata": {},
     "output_type": "execute_result"
    }
   ],
   "source": [
    "next(t_20)"
   ]
  },
  {
   "cell_type": "code",
   "execution_count": null,
   "id": "399a5c94-3e92-4e5e-aa11-8fd26ff985a9",
   "metadata": {},
   "outputs": [],
   "source": []
  },
  {
   "cell_type": "code",
   "execution_count": null,
   "id": "bc42e5c2-1cde-4f7e-a9c4-5676db1dba31",
   "metadata": {},
   "outputs": [],
   "source": []
  },
  {
   "cell_type": "code",
   "execution_count": null,
   "id": "a7921912-d68e-47ee-a593-9bec88859e91",
   "metadata": {},
   "outputs": [],
   "source": [
    "def prime_nos(n):\n",
    "    if n <=1:\n",
    "        return False\n",
    "    if n <=3:\n",
    "        return True\n",
    "\n",
    "    if n % 2 ==0 or n % 3 == 0:\n",
    "        return False\n",
    "    \n",
    "    i=5\n",
    "    while i*i <=n:\n",
    "        if n%i ==0 or n%(i+2)==0:\n",
    "            return False\n",
    "        i +=6\n",
    "        \n",
    "        \n",
    "    return True\n",
    "\n",
    "for prm in range(2,1001):\n",
    "        if prime_nos(prm):\n",
    "        l.append(prm)"
   ]
  },
  {
   "cell_type": "code",
   "execution_count": null,
   "id": "fd008da5-9f40-4906-a764-bb2cad035200",
   "metadata": {},
   "outputs": [],
   "source": []
  },
  {
   "cell_type": "code",
   "execution_count": null,
   "id": "b3f7dfe2-f4d8-401d-85e6-3db4117487d6",
   "metadata": {},
   "outputs": [],
   "source": []
  },
  {
   "cell_type": "code",
   "execution_count": null,
   "id": "2bd2f80d-b22a-4e15-8f50-9c036f9e97e6",
   "metadata": {},
   "outputs": [],
   "source": []
  },
  {
   "cell_type": "code",
   "execution_count": null,
   "id": "9770cde2-cc66-4e2f-ba7c-9c64598086e7",
   "metadata": {},
   "outputs": [],
   "source": []
  },
  {
   "cell_type": "markdown",
   "id": "2b96633c-0aa6-4407-8f72-dc50ec02e1af",
   "metadata": {
    "jp-MarkdownHeadingCollapsed": true,
    "tags": []
   },
   "source": [
    "# Q6. Write a python program to print the first 10 Fibonacci numbers using a while loop. #"
   ]
  },
  {
   "cell_type": "code",
   "execution_count": 5,
   "id": "b1b13be6-73c0-41e8-bdbe-26b4b5484b6e",
   "metadata": {},
   "outputs": [
    {
     "name": "stdout",
     "output_type": "stream",
     "text": [
      "[0, 1, 1, 2, 3, 5, 8, 13, 21, 34]\n"
     ]
    }
   ],
   "source": [
    "fb=[0,1] #Declaring the first 2 numbers\n",
    "\n",
    "while len(fb) < 10: # will keep this loop active till lenght of fb become 10\n",
    "    nxt_num=fb[-1]+fb[-2] # here the negative count has to be taken otherwise it will result in [0,1,1,1,1,..] \n",
    "                          # this helps to get the number in (n+2) = n+1 + n\n",
    "    fb.append(nxt_num)   \n",
    "\n",
    "print (fb)\n"
   ]
  },
  {
   "cell_type": "markdown",
   "id": "060d9a2a-cf03-4a9c-b51c-c7f2b1f3d02a",
   "metadata": {
    "jp-MarkdownHeadingCollapsed": true,
    "tags": []
   },
   "source": [
    "# Q7. Write a List Comprehension to iterate through the given string: ‘pwskills’.\n",
    "Expected output: ['p', 'w', 's', 'k', 'i', 'l', 'l', 's']"
   ]
  },
  {
   "cell_type": "code",
   "execution_count": 33,
   "id": "09d1be00-ec53-4922-9e47-961c2c82d8af",
   "metadata": {},
   "outputs": [
    {
     "data": {
      "text/plain": [
       "['p', 'w', 's', 'k', 'i', 'l', 'l', 's']"
      ]
     },
     "execution_count": 33,
     "metadata": {},
     "output_type": "execute_result"
    }
   ],
   "source": [
    "l=\"pwskills\"\n",
    "list(map(lambda x : x ,l))"
   ]
  },
  {
   "cell_type": "code",
   "execution_count": null,
   "id": "f8378445-88fd-4d0d-9760-67e6458ec4f3",
   "metadata": {},
   "outputs": [],
   "source": []
  },
  {
   "cell_type": "markdown",
   "id": "9dc0cab6-84f9-4063-b61a-1dd9a7f58d39",
   "metadata": {
    "jp-MarkdownHeadingCollapsed": true,
    "tags": []
   },
   "source": [
    "# Q8. Write a python program to check whether a given number is Palindrome or not using a while loop. "
   ]
  },
  {
   "cell_type": "code",
   "execution_count": 14,
   "id": "2dabb8d3-2edf-4f72-aa27-a2ffb63c3533",
   "metadata": {},
   "outputs": [],
   "source": [
    "def palcheck(inum):\n",
    "    snum=str(inum)\n",
    "    l=[]\n",
    "    \n",
    "    i= 0\n",
    "    while i< len(snum):\n",
    "        l.append(snum[i])\n",
    "        i += 1\n",
    "    l1=l[::-1]\n",
    "    l3=list(map(lambda x,y: x==y,l,l1))\n",
    "    if all(l3):\n",
    "        print (\"Palindrome\")\n",
    "    else :\n",
    "        print (\"Not a Palindrome\")"
   ]
  },
  {
   "cell_type": "code",
   "execution_count": 17,
   "id": "088747c8-b9c1-4445-bd1d-c00752d28174",
   "metadata": {},
   "outputs": [
    {
     "name": "stdout",
     "output_type": "stream",
     "text": [
      "Not a Palindrome\n"
     ]
    }
   ],
   "source": [
    "palcheck(123432)"
   ]
  },
  {
   "cell_type": "code",
   "execution_count": 18,
   "id": "9397363e-ebb1-4249-b5dd-8a9e555c7242",
   "metadata": {},
   "outputs": [
    {
     "name": "stdout",
     "output_type": "stream",
     "text": [
      "Palindrome\n"
     ]
    }
   ],
   "source": [
    "palcheck(1234321)"
   ]
  },
  {
   "cell_type": "code",
   "execution_count": null,
   "id": "3defc6a3-782b-49ec-a55f-0d49b0b87099",
   "metadata": {},
   "outputs": [],
   "source": []
  },
  {
   "cell_type": "markdown",
   "id": "a7c55364-a15b-44ef-bd31-3b27ab8f3936",
   "metadata": {
    "jp-MarkdownHeadingCollapsed": true,
    "tags": []
   },
   "source": [
    "# Q9. Write a code to print odd numbers from 1 to 100 using list comprehension.\n",
    "Note: Use a list comprehension to create a list from 1 to 100 and use another List comprehension to filter out odd numbers."
   ]
  },
  {
   "cell_type": "code",
   "execution_count": 50,
   "id": "de883d8f-9bd4-4fb9-9921-65f813002f89",
   "metadata": {},
   "outputs": [
    {
     "name": "stdout",
     "output_type": "stream",
     "text": [
      "[1, 3, 5, 7, 9, 11, 13, 15, 17, 19, 21, 23, 25, 27, 29, 31, 33, 35, 37, 39, 41, 43, 45, 47, 49, 51, 53, 55, 57, 59, 61, 63, 65, 67, 69, 71, 73, 75, 77, 79, 81, 83, 85, 87, 89, 91, 93, 95, 97, 99]\n"
     ]
    }
   ],
   "source": [
    "odd_num=[num for num in range(1,101) if num% 2 != 0 ]\n",
    "print(odd_num)"
   ]
  },
  {
   "cell_type": "code",
   "execution_count": null,
   "id": "843be19c-f1df-4fe3-9452-a44acf59e70f",
   "metadata": {},
   "outputs": [],
   "source": []
  }
 ],
 "metadata": {
  "kernelspec": {
   "display_name": "Python 3 (ipykernel)",
   "language": "python",
   "name": "python3"
  },
  "language_info": {
   "codemirror_mode": {
    "name": "ipython",
    "version": 3
   },
   "file_extension": ".py",
   "mimetype": "text/x-python",
   "name": "python",
   "nbconvert_exporter": "python",
   "pygments_lexer": "ipython3",
   "version": "3.10.8"
  }
 },
 "nbformat": 4,
 "nbformat_minor": 5
}
