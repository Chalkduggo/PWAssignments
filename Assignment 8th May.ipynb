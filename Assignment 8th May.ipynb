{
 "cells": [
  {
   "cell_type": "markdown",
   "id": "b52ab242-fbfe-4c93-b5be-237ff0034ea7",
   "metadata": {},
   "source": [
    "Q1. Create one variable containing following type of data:\n",
    "(i)\tstring\n",
    "(ii)\tlist\n",
    "(iii)\tfloat\n",
    "(iv)\ttuple"
   ]
  },
  {
   "cell_type": "code",
   "execution_count": 7,
   "id": "8b201084-93cc-4dc0-8ee9-0e80427c06e2",
   "metadata": {},
   "outputs": [],
   "source": [
    "s=\"Suman\"\n",
    "l=[2,3,4,\"Suman\",26.02,True]\n",
    "f=23.34\n",
    "t=(\"suman\",\"mondal\",\"assignment\",True)"
   ]
  },
  {
   "cell_type": "markdown",
   "id": "167c14b9-fb17-4202-b928-ee49a304d4dc",
   "metadata": {},
   "source": [
    "Q2. Given are some following variables containing data:\n",
    "\n",
    "(i)\tvar1 = ‘ ‘\n",
    "\n",
    "(ii)\tvar2 = ‘[ DS , ML , Python]’\n",
    "\n",
    "(iii)\tvar3 = [ ‘DS’ , ’ML’ , ‘Python’ ]\n",
    "\n",
    "(iv)\tvar4 = 1.\n",
    "\n",
    "\n",
    "What will be the data type of the above given variable."
   ]
  },
  {
   "cell_type": "code",
   "execution_count": 9,
   "id": "98eb8666-407c-4d34-b25f-2b939f3591bf",
   "metadata": {},
   "outputs": [],
   "source": [
    "var1 = ''\n",
    "\n",
    "var2 = '[ DS , ML , Python]'\n",
    "\n",
    "var3 = [ 'DS' , 'ML' , 'Python' ]\n",
    "\n",
    "var4 = 1"
   ]
  },
  {
   "cell_type": "code",
   "execution_count": 11,
   "id": "da4cb9cf-12f7-4b20-81c5-c60a7b9a949d",
   "metadata": {},
   "outputs": [
    {
     "data": {
      "text/plain": [
       "str"
      ]
     },
     "execution_count": 11,
     "metadata": {},
     "output_type": "execute_result"
    }
   ],
   "source": [
    "type(var1)"
   ]
  },
  {
   "cell_type": "code",
   "execution_count": 12,
   "id": "c5ebf155-4dc6-4452-a23a-b7810aa9e855",
   "metadata": {},
   "outputs": [
    {
     "data": {
      "text/plain": [
       "str"
      ]
     },
     "execution_count": 12,
     "metadata": {},
     "output_type": "execute_result"
    }
   ],
   "source": [
    "type(var2)"
   ]
  },
  {
   "cell_type": "code",
   "execution_count": 13,
   "id": "ede49bfe-f91c-4640-8d0d-246ebfbfbb5a",
   "metadata": {},
   "outputs": [
    {
     "data": {
      "text/plain": [
       "list"
      ]
     },
     "execution_count": 13,
     "metadata": {},
     "output_type": "execute_result"
    }
   ],
   "source": [
    "type(var3)"
   ]
  },
  {
   "cell_type": "code",
   "execution_count": 14,
   "id": "1b7b6b76-4c53-447a-9a00-0089a12c3f9a",
   "metadata": {},
   "outputs": [
    {
     "data": {
      "text/plain": [
       "int"
      ]
     },
     "execution_count": 14,
     "metadata": {},
     "output_type": "execute_result"
    }
   ],
   "source": [
    "type(var4)"
   ]
  },
  {
   "cell_type": "markdown",
   "id": "1ebbb5eb-2b14-4fe8-86cf-22e511b000c7",
   "metadata": {},
   "source": [
    "Q3. Explain the use of the following operators using an example:\n",
    "\n",
    "(i)\t/\n",
    "\n",
    "(ii)\t% \n",
    "\n",
    "(iii)\t//\n",
    "\n",
    "(iv)\t**"
   ]
  },
  {
   "cell_type": "code",
   "execution_count": 15,
   "id": "3536e851-c2bc-4f45-8719-db067316dc25",
   "metadata": {},
   "outputs": [],
   "source": [
    "# (i)"
   ]
  },
  {
   "cell_type": "code",
   "execution_count": 16,
   "id": "d5f04cf3-3085-4e9d-a92d-fcc021961824",
   "metadata": {},
   "outputs": [],
   "source": [
    "# \"/\" used for division\n",
    "a=10\n",
    "b=5\n",
    "c=a/b"
   ]
  },
  {
   "cell_type": "code",
   "execution_count": 17,
   "id": "dd986bb8-49f9-45f4-8278-321232768cec",
   "metadata": {},
   "outputs": [
    {
     "data": {
      "text/plain": [
       "2.0"
      ]
     },
     "execution_count": 17,
     "metadata": {},
     "output_type": "execute_result"
    }
   ],
   "source": [
    "c"
   ]
  },
  {
   "cell_type": "code",
   "execution_count": null,
   "id": "4e58cf33-aacb-4711-bb90-1f0528ae5f5b",
   "metadata": {},
   "outputs": [],
   "source": [
    "# (ii)"
   ]
  },
  {
   "cell_type": "code",
   "execution_count": null,
   "id": "a00d8a05-23bb-4c7e-8407-cc04423d0725",
   "metadata": {},
   "outputs": [],
   "source": [
    "# \"%\" used for finding the modulous(remainder)"
   ]
  },
  {
   "cell_type": "code",
   "execution_count": 21,
   "id": "f8a9af5a-8dbc-4c64-8e91-59962f150436",
   "metadata": {},
   "outputs": [],
   "source": [
    "a=10\n",
    "b=4\n",
    "d=a%b"
   ]
  },
  {
   "cell_type": "code",
   "execution_count": 22,
   "id": "32501d2c-fbcf-4310-8047-e8cc612481e3",
   "metadata": {},
   "outputs": [
    {
     "data": {
      "text/plain": [
       "2"
      ]
     },
     "execution_count": 22,
     "metadata": {},
     "output_type": "execute_result"
    }
   ],
   "source": [
    "d"
   ]
  },
  {
   "cell_type": "code",
   "execution_count": null,
   "id": "996becda-309a-4eef-90a7-9ee7ea57b3f9",
   "metadata": {},
   "outputs": [],
   "source": [
    "# (iii)"
   ]
  },
  {
   "cell_type": "code",
   "execution_count": null,
   "id": "b04edb07-35ac-4783-86a3-623dc5ca480d",
   "metadata": {},
   "outputs": [],
   "source": [
    "# \"//\" used for division floor operator , rounds the result down to the nearest whole number"
   ]
  },
  {
   "cell_type": "code",
   "execution_count": 25,
   "id": "09d94b94-b26b-41cc-b967-68a62f777325",
   "metadata": {},
   "outputs": [],
   "source": [
    "a=11\n",
    "b=3\n",
    "e=a//b"
   ]
  },
  {
   "cell_type": "code",
   "execution_count": 26,
   "id": "6430e483-ff04-4447-9a68-5a0491d5a05a",
   "metadata": {},
   "outputs": [
    {
     "data": {
      "text/plain": [
       "3"
      ]
     },
     "execution_count": 26,
     "metadata": {},
     "output_type": "execute_result"
    }
   ],
   "source": [
    "e"
   ]
  },
  {
   "cell_type": "code",
   "execution_count": null,
   "id": "90beb9dc-1224-46eb-a916-4a3d17c9daa6",
   "metadata": {},
   "outputs": [],
   "source": [
    "# (iv)"
   ]
  },
  {
   "cell_type": "code",
   "execution_count": null,
   "id": "606fb4e8-a2d6-4865-b957-2e4d0ba0c260",
   "metadata": {},
   "outputs": [],
   "source": [
    "# \"**\" used for finding the modulous(remainder)"
   ]
  },
  {
   "cell_type": "code",
   "execution_count": 27,
   "id": "0e7e5608-66e3-4a9a-93a9-12dc764264ba",
   "metadata": {},
   "outputs": [],
   "source": [
    "a=10\n",
    "b=4\n",
    "c=a**b"
   ]
  },
  {
   "cell_type": "code",
   "execution_count": 28,
   "id": "c227437f-94b3-4e7d-bd8a-649f5f848081",
   "metadata": {},
   "outputs": [
    {
     "data": {
      "text/plain": [
       "10000"
      ]
     },
     "execution_count": 28,
     "metadata": {},
     "output_type": "execute_result"
    }
   ],
   "source": [
    "c"
   ]
  },
  {
   "cell_type": "markdown",
   "id": "581cb798-3002-4e96-bc50-430db2f6c154",
   "metadata": {},
   "source": [
    "Q4. Create a list of length 10 of your choice containing multiple types of data. Using for loop print the\n",
    "element and its data type."
   ]
  },
  {
   "cell_type": "code",
   "execution_count": 7,
   "id": "31c1c122-57f0-4ee1-b99e-424194365a24",
   "metadata": {},
   "outputs": [],
   "source": [
    "l4=[2,3,7,\"Data\",\"Science\",\"Python\",\"Week 1\",50.26,92.26,True]"
   ]
  },
  {
   "cell_type": "code",
   "execution_count": 8,
   "id": "40554b7b-b0d0-4a70-a84a-573645e24a4c",
   "metadata": {},
   "outputs": [
    {
     "data": {
      "text/plain": [
       "[2, 3, 7, 'Data', 'Science', 'Python', 'Week 1', 50.26, 92.26, True]"
      ]
     },
     "execution_count": 8,
     "metadata": {},
     "output_type": "execute_result"
    }
   ],
   "source": [
    "l4"
   ]
  },
  {
   "cell_type": "code",
   "execution_count": 9,
   "id": "b5448f0c-efb8-40e7-92b1-a035f0e5eda7",
   "metadata": {},
   "outputs": [
    {
     "name": "stdout",
     "output_type": "stream",
     "text": [
      "2\n",
      "<class 'int'>\n",
      "3\n",
      "<class 'int'>\n",
      "7\n",
      "<class 'int'>\n",
      "Data\n",
      "<class 'str'>\n",
      "Science\n",
      "<class 'str'>\n",
      "Python\n",
      "<class 'str'>\n",
      "Week 1\n",
      "<class 'str'>\n",
      "50.26\n",
      "<class 'float'>\n",
      "92.26\n",
      "<class 'float'>\n",
      "True\n",
      "<class 'bool'>\n"
     ]
    }
   ],
   "source": [
    "for i in l4:\n",
    "    print(i)\n",
    "    print(type(i))"
   ]
  },
  {
   "cell_type": "markdown",
   "id": "4f31c381-9d02-4250-aabb-91a7c5d9b12b",
   "metadata": {},
   "source": [
    "Q5. Using a while loop, verify if the number A is purely divisible by number B and if so then how many\n",
    "times it can be divisible."
   ]
  },
  {
   "cell_type": "code",
   "execution_count": 21,
   "id": "9fda0769-4d77-4910-93f8-bf77a69b9bdf",
   "metadata": {},
   "outputs": [
    {
     "name": "stdout",
     "output_type": "stream",
     "text": [
      "Insert the Number:\n"
     ]
    },
    {
     "name": "stdin",
     "output_type": "stream",
     "text": [
      " 24\n"
     ]
    },
    {
     "name": "stdout",
     "output_type": "stream",
     "text": [
      "Insert the Number you want to divide it with:\n"
     ]
    },
    {
     "name": "stdin",
     "output_type": "stream",
     "text": [
      " 2\n"
     ]
    },
    {
     "name": "stdout",
     "output_type": "stream",
     "text": [
      "No of times 24 is divisible by 2 is  0\n"
     ]
    }
   ],
   "source": [
    "print(\"Insert the Number:\")\n",
    "A=int(input())\n",
    "print(\"Insert the Number you want to divide it with:\")\n",
    "B=int(input())\n",
    "x=0\n",
    "c=0\n",
    "while a%b==0:\n",
    "    c=a/b\n",
    "    a=c\n",
    "    x=x+1\n",
    "print(\"No of times\" ,A ,\"is divisible by\", B ,\"is \" , x)\n",
    "\n",
    "    "
   ]
  },
  {
   "cell_type": "markdown",
   "id": "63a331d3-4192-41c5-aba8-7a96f7e09932",
   "metadata": {},
   "source": [
    "Q6. Create a list containing 25 int type data. Using for loop and if-else condition print if the element is\n",
    "divisible by 3 or not."
   ]
  },
  {
   "cell_type": "code",
   "execution_count": 48,
   "id": "8df4b43f-f5ea-4858-9220-ac8c9525dedd",
   "metadata": {},
   "outputs": [
    {
     "name": "stdout",
     "output_type": "stream",
     "text": [
      "[1, 2, 3, 4, 5, 6, 7, 8, 9, 10, 11, 12, 13, 14, 15, 16, 17, 18, 19, 20, 21, 22, 23, 24, 25]\n",
      "1  is not divisible by 3\n",
      "2  is not divisible by 3\n",
      "3 is divisible by 3\n",
      "4  is not divisible by 3\n",
      "5  is not divisible by 3\n",
      "6 is divisible by 3\n",
      "7  is not divisible by 3\n",
      "8  is not divisible by 3\n",
      "9 is divisible by 3\n",
      "10  is not divisible by 3\n",
      "11  is not divisible by 3\n",
      "12 is divisible by 3\n",
      "13  is not divisible by 3\n",
      "14  is not divisible by 3\n",
      "15 is divisible by 3\n",
      "16  is not divisible by 3\n",
      "17  is not divisible by 3\n",
      "18 is divisible by 3\n",
      "19  is not divisible by 3\n",
      "20  is not divisible by 3\n",
      "21 is divisible by 3\n",
      "22  is not divisible by 3\n",
      "23  is not divisible by 3\n",
      "24 is divisible by 3\n",
      "25  is not divisible by 3\n"
     ]
    }
   ],
   "source": [
    "l5=list(range(1,26))\n",
    "print(l5)\n",
    "for i in l5:\n",
    "    i=i-1\n",
    "    if l5[i]%3==0:\n",
    "        print (l5[i] ,\"is divisible by 3\")\n",
    "    else:\n",
    "        print (l5[i], \" is not divisible by 3\")\n",
    "        "
   ]
  },
  {
   "cell_type": "markdown",
   "id": "c54d49b0-ae9f-4a6b-8766-9596476ab9e2",
   "metadata": {},
   "source": [
    "Q7. What do you understand about mutable and immutable data types? Give examples for both showing\n",
    "this property."
   ]
  },
  {
   "cell_type": "markdown",
   "id": "98f88deb-5ab9-4d6f-bd41-52524a40aa24",
   "metadata": {},
   "source": [
    " Objects that can be changed after creation are known as mutable data types . Although changing is easy and efficient ,they are slower to access .Example lists ,Sets . \n",
    " While those which cannot be changed after creation are known as immutable objects .They are easy to access. Examples tuples."
   ]
  },
  {
   "cell_type": "code",
   "execution_count": 64,
   "id": "0643c45d-fb5b-489c-ba28-beeee30f49fc",
   "metadata": {},
   "outputs": [],
   "source": [
    "#Mutable Data Type :\n",
    "l1 = [2,3,\"suman\",23.5,True]"
   ]
  },
  {
   "cell_type": "code",
   "execution_count": 65,
   "id": "a766138f-13e8-4315-b0e2-1389f1ac6404",
   "metadata": {},
   "outputs": [],
   "source": [
    "#Immutable DataType\n",
    "t1 = (92,3,\"Suman\",23.5,True)"
   ]
  },
  {
   "cell_type": "code",
   "execution_count": null,
   "id": "3138459b-b639-49b7-8e1f-b57ba4895908",
   "metadata": {},
   "outputs": [],
   "source": []
  }
 ],
 "metadata": {
  "kernelspec": {
   "display_name": "Python 3 (ipykernel)",
   "language": "python",
   "name": "python3"
  },
  "language_info": {
   "codemirror_mode": {
    "name": "ipython",
    "version": 3
   },
   "file_extension": ".py",
   "mimetype": "text/x-python",
   "name": "python",
   "nbconvert_exporter": "python",
   "pygments_lexer": "ipython3",
   "version": "3.10.8"
  }
 },
 "nbformat": 4,
 "nbformat_minor": 5
}
